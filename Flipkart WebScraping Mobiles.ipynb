{
 "cells": [
  {
   "cell_type": "code",
   "execution_count": 17,
   "id": "9a788821",
   "metadata": {},
   "outputs": [],
   "source": [
    "## Importing required libraries\n",
    "import pandas as pd\n",
    "import requests\n",
    "from bs4 import BeautifulSoup"
   ]
  },
  {
   "cell_type": "code",
   "execution_count": 18,
   "id": "e6a43d47",
   "metadata": {},
   "outputs": [
    {
     "name": "stdout",
     "output_type": "stream",
     "text": [
      "Successfully connected to the website.\n"
     ]
    }
   ],
   "source": [
    "# Accessing the HTML content from webpage\n",
    "url = \"https://www.flipkart.com/search?q=mobiles+under+50k&as=on&as-show=on&otracker=AS_Query_HistoryAutoSuggest_1_13_na_na_na&otracker1=AS_Query_HistoryAutoSuggest_1_13_na_na_na&as-pos=1&as-type=HISTORY&suggestionId=mobiles+under+50k&requestId=970c95e8-6a4b-4087-a4e1-6aa5090bdd2c&as-searchtext=mobiles+under&page=\"\n",
    "response = requests.get(url)\n",
    "if response.status_code == 200:\n",
    "    print(\"Successfully connected to the website.\")\n",
    "else:\n",
    "    print(\"Not connected to the website.\")"
   ]
  },
  {
   "cell_type": "code",
   "execution_count": 19,
   "id": "47e0e192",
   "metadata": {},
   "outputs": [
    {
     "name": "stdout",
     "output_type": "stream",
     "text": [
      "Requirement already satisfied: html5lib in c:\\users\\hp\\anaconda3\\lib\\site-packages (1.1)\n",
      "Requirement already satisfied: six>=1.9 in c:\\users\\hp\\anaconda3\\lib\\site-packages (from html5lib) (1.16.0)\n",
      "Requirement already satisfied: webencodings in c:\\users\\hp\\anaconda3\\lib\\site-packages (from html5lib) (0.5.1)\n",
      "Note: you may need to restart the kernel to use updated packages.\n"
     ]
    }
   ],
   "source": [
    "pip install html5lib"
   ]
  },
  {
   "cell_type": "code",
   "execution_count": 20,
   "id": "962a0b8a",
   "metadata": {},
   "outputs": [],
   "source": [
    "# Parsing the HTML content\n",
    "soup = BeautifulSoup(response.content, 'html5lib')"
   ]
  },
  {
   "cell_type": "code",
   "execution_count": 21,
   "id": "623eb236",
   "metadata": {},
   "outputs": [],
   "source": [
    "Product_name = []\n",
    "Prices = []\n",
    "Description = []\n",
    "Reviews = []\n",
    "box = soup.find(\"div\",class_= \"_1YokD2 _3Mn1Gg\")\n",
    "names = box.find_all(\"div\",class_ = \"_4rR01T\")\n",
    "for i in range(2,12):\n",
    "    \n",
    "    for i in names:\n",
    "        name = i.text\n",
    "        Product_name.append(name)\n",
    "\n",
    "    prices = box.find_all(\"div\", class_ = \"_30jeq3 _1_WHN1\")\n",
    "    for i in prices:\n",
    "        name = i.text\n",
    "        Prices.append(name)\n",
    "\n",
    "    desc = box.find_all(\"ul\",class_ = \"_1xgFaf\")\n",
    "    for i in desc:\n",
    "        name = i.text\n",
    "        Description.append(name)\n",
    "\n",
    "    reviews = box.find_all(\"div\", class_ = \"_3LWZlK\")\n",
    "\n",
    "    for i in reviews:\n",
    "        name = i.text\n",
    "        Reviews.append(name)\n"
   ]
  },
  {
   "cell_type": "code",
   "execution_count": 22,
   "id": "f0ce878f",
   "metadata": {},
   "outputs": [
    {
     "name": "stdout",
     "output_type": "stream",
     "text": [
      "                                          Product Name   Prices  \\\n",
      "0    Samsung Galaxy S21 FE 5G with Snapdragon 888 (...  ₹41,999   \n",
      "1                       APPLE iPhone 12 (Blue, 128 GB)  ₹48,999   \n",
      "2                      vivo V29 Pro 5G (Black, 256 GB)  ₹42,999   \n",
      "3                       vivo V29 Pro 5G (Blue, 256 GB)  ₹42,999   \n",
      "4            SAMSUNG Galaxy Z Flip3 5G (Cream, 128 GB)  ₹45,999   \n",
      "..                                                 ...      ...   \n",
      "235     Tecno Phantom V Flip 5G (Iconic Black, 256 GB)  ₹49,999   \n",
      "236                  APPLE iPhone 8 Plus (Gold, 64 GB)  ₹49,900   \n",
      "237                  vivo X60 (Midnight Black, 256 GB)  ₹46,990   \n",
      "238        OPPO Reno7 Pro 5G (Startrails Blue, 256 GB)  ₹47,990   \n",
      "239        OPPO Reno7 Pro 5G (Starlight Black, 256 GB)  ₹47,990   \n",
      "\n",
      "                                           Description Reviews  \n",
      "0    8 GB RAM | 256 GB ROM16.26 cm (6.4 inch) Full ...     4.3  \n",
      "1    128 GB ROM15.49 cm (6.1 inch) Super Retina XDR...     4.6  \n",
      "2    12 GB RAM | 256 GB ROM17.22 cm (6.78 inch) Ful...     4.5  \n",
      "3    12 GB RAM | 256 GB ROM17.22 cm (6.78 inch) Ful...     4.5  \n",
      "4    8 GB RAM | 128 GB ROM17.02 cm (6.7 inch) Full ...     4.3  \n",
      "..                                                 ...     ...  \n",
      "235  8 GB RAM | 256 GB ROM17.53 cm (6.9 inch) Displ...     3.3  \n",
      "236  64 GB ROM13.97 cm (5.5 inch) Retina HD Display...     4.6  \n",
      "237  12 GB RAM | 256 GB ROM16.66 cm (6.56 inch) Ful...     4.4  \n",
      "238  12 GB RAM | 256 GB ROM | Expandable Upto 7 GB1...     4.3  \n",
      "239  12 GB RAM | 256 GB ROM16.51 cm (6.5 inch) Full...     4.3  \n",
      "\n",
      "[240 rows x 4 columns]\n"
     ]
    }
   ],
   "source": [
    "df = pd.DataFrame({\"Product Name\":Product_name,\"Prices\":Prices,\"Description\":Description,\"Reviews\":Reviews})\n",
    "print(df)"
   ]
  },
  {
   "cell_type": "code",
   "execution_count": 24,
   "id": "63bb8d9e",
   "metadata": {},
   "outputs": [],
   "source": [
    "#Creating CSV file\n",
    "csv_file_path = \"D:/Projects/flipkart_mobiles_under_50000.csv\"\n",
    "new_file = open(csv_file_path, \"x\")"
   ]
  },
  {
   "cell_type": "code",
   "execution_count": 25,
   "id": "95f93aec",
   "metadata": {},
   "outputs": [],
   "source": [
    "#Storing data in a created csv file\n",
    "df.to_csv(csv_file_path)"
   ]
  },
  {
   "cell_type": "code",
   "execution_count": null,
   "id": "a17f8de3",
   "metadata": {},
   "outputs": [],
   "source": []
  }
 ],
 "metadata": {
  "kernelspec": {
   "display_name": "Python 3 (ipykernel)",
   "language": "python",
   "name": "python3"
  },
  "language_info": {
   "codemirror_mode": {
    "name": "ipython",
    "version": 3
   },
   "file_extension": ".py",
   "mimetype": "text/x-python",
   "name": "python",
   "nbconvert_exporter": "python",
   "pygments_lexer": "ipython3",
   "version": "3.11.4"
  }
 },
 "nbformat": 4,
 "nbformat_minor": 5
}
